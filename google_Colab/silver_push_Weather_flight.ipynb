{
  "nbformat": 4,
  "nbformat_minor": 0,
  "metadata": {
    "colab": {
      "provenance": [],
      "authorship_tag": "ABX9TyMgCkxjPCG972dUGBSjYjCM",
      "include_colab_link": true
    },
    "kernelspec": {
      "name": "python3",
      "display_name": "Python 3"
    },
    "language_info": {
      "name": "python"
    }
  },
  "cells": [
    {
      "cell_type": "markdown",
      "metadata": {
        "id": "view-in-github",
        "colab_type": "text"
      },
      "source": [
        "<a href=\"https://colab.research.google.com/github/Avinash73-DA/opensky-weather-medallion-aws/blob/main/google_Colab/silver_push_Weather_flight.ipynb\" target=\"_parent\"><img src=\"https://colab.research.google.com/assets/colab-badge.svg\" alt=\"Open In Colab\"/></a>"
      ]
    },
    {
      "cell_type": "code",
      "source": [
        "!pip install pyspark findspark\n",
        "import pandas as pd\n",
        "import json\n",
        "import findspark\n",
        "findspark.init()\n",
        "from pyspark.sql import SparkSession\n",
        "from pyspark.sql.types import *\n",
        "from pyspark.sql.functions import *\n",
        "from pyspark.sql.window import Window"
      ],
      "metadata": {
        "colab": {
          "base_uri": "https://localhost:8080/"
        },
        "id": "esOON7cYGKJ1",
        "outputId": "d3a1d0a4-d372-446b-be24-daf65e6e6b36"
      },
      "execution_count": 1,
      "outputs": [
        {
          "output_type": "stream",
          "name": "stdout",
          "text": [
            "Requirement already satisfied: pyspark in /usr/local/lib/python3.12/dist-packages (3.5.1)\n",
            "Collecting findspark\n",
            "  Downloading findspark-2.0.1-py2.py3-none-any.whl.metadata (352 bytes)\n",
            "Requirement already satisfied: py4j==0.10.9.7 in /usr/local/lib/python3.12/dist-packages (from pyspark) (0.10.9.7)\n",
            "Downloading findspark-2.0.1-py2.py3-none-any.whl (4.4 kB)\n",
            "Installing collected packages: findspark\n",
            "Successfully installed findspark-2.0.1\n"
          ]
        }
      ]
    },
    {
      "cell_type": "code",
      "source": [
        "spark = SparkSession.builder \\\n",
        "    .master(\"local[*]\") \\\n",
        "    .appName(\"PySpark-in-Colab\") \\\n",
        "    .getOrCreate()\n",
        "\n",
        "print(\"SparkSession created Activated!\")"
      ],
      "metadata": {
        "id": "0V_4BHmGFTte",
        "colab": {
          "base_uri": "https://localhost:8080/"
        },
        "outputId": "7d41081a-a89b-4ffa-bdd8-ddadeb5d5739"
      },
      "execution_count": 2,
      "outputs": [
        {
          "output_type": "stream",
          "name": "stdout",
          "text": [
            "SparkSession created Activated!\n"
          ]
        }
      ]
    },
    {
      "cell_type": "code",
      "source": [
        "df_plane = spark.read.format('json')\\\n",
        "          .option('multiline',True)\\\n",
        "          .load('/content/airplane_data_20250817_134507.json')\n",
        "\n",
        "exploed_view = df_plane.select(explode('states').alias('state_data'))\n",
        "\n",
        "columns = [\n",
        "    'icao24', 'callsign', 'origin_country', 'time_position', 'last_contact',\n",
        "    'longitude', 'latitude', 'baro_altitude', 'on_ground', 'velocity',\n",
        "    'true_track', 'vertical_rate', 'sensors', 'geo_altitude', 'squawk',\n",
        "    'spi', 'position_source'\n",
        "]\n",
        "\n",
        "df_plane = exploed_view\\\n",
        ".select(\n",
        "    col('state_data').getItem(0).alias(columns[0]),\n",
        "    col('state_data').getItem(1).alias(columns[1]),\n",
        "    col('state_data').getItem(2).alias(columns[2]),\n",
        "    col('state_data').getItem(3).cast('integer').alias(columns[3]),\n",
        "    col('state_data').getItem(4).cast('integer').alias(columns[4]),\n",
        "    col('state_data').getItem(5).cast('float').alias(columns[5]),\n",
        "    col('state_data').getItem(6).cast('float').alias(columns[6]),\n",
        "    col('state_data').getItem(7).cast('float').alias(columns[7]),\n",
        "    col('state_data').getItem(8).cast('boolean').alias(columns[8]),\n",
        "    col('state_data').getItem(9).cast('float').alias(columns[9]),\n",
        "    col('state_data').getItem(10).cast('float').alias(columns[10]),\n",
        "    col('state_data').getItem(11).cast('float').alias(columns[11]),\n",
        "    col('state_data').getItem(12).alias(columns[12]),\n",
        "    col('state_data').getItem(13).cast('float').alias(columns[13]),\n",
        "    col('state_data').getItem(14).alias(columns[14]),\n",
        "    col('state_data').getItem(15).cast('boolean').alias(columns[15]),\n",
        "    col('state_data').getItem(16).cast('integer').alias(columns[16]),\n",
        "    from_utc_timestamp(current_timestamp(), \"Asia/Kolkata\").alias(\"timestamp_sil\")\n",
        ")"
      ],
      "metadata": {
        "id": "rOgShweCGDVT"
      },
      "execution_count": null,
      "outputs": []
    },
    {
      "cell_type": "code",
      "source": [
        "file_path = '/content/wether_data20250817_134528.json'\n",
        "\n",
        "df_raw = spark.read.option(\"multiline\", \"true\").json(file_path)\n",
        "\n",
        "df_weather = df_raw.select(\n",
        "    col(\"name\").alias(\"city\"),\n",
        "    col(\"sys.country\").alias(\"country\"),\n",
        "    col(\"coord.lat\").alias(\"lat\"),\n",
        "    col(\"coord.lon\").alias(\"lon\"),\n",
        "    col(\"weather\")[0][\"main\"].alias(\"weather\"),\n",
        "    col(\"weather\")[0][\"description\"].alias(\"description\"),\n",
        "    col(\"main.temp\").alias(\"temp\"),\n",
        "    col(\"main.humidity\").alias(\"humidity\"),\n",
        "    col(\"wind.speed\").alias(\"wind_speed\"),\n",
        "    from_utc_timestamp(current_timestamp(), \"Asia/Kolkata\").alias(\"timestamp_sil\")\n",
        ")\n",
        "\n",
        "df_weather.show(5)"
      ],
      "metadata": {
        "id": "ppnr2cQZR2Q6",
        "colab": {
          "base_uri": "https://localhost:8080/"
        },
        "outputId": "2dd51fa2-7578-47da-aa46-44e25485e123"
      },
      "execution_count": null,
      "outputs": [
        {
          "output_type": "stream",
          "name": "stdout",
          "text": [
            "+-----------+-------+-------+---------+-------+---------------+------+--------+----------+--------------------+\n",
            "|       city|country|    lat|      lon|weather|    description|  temp|humidity|wind_speed|       timestamp_sil|\n",
            "+-----------+-------+-------+---------+-------+---------------+------+--------+----------+--------------------+\n",
            "|   New York|     US|40.7143|  -74.006| Clouds|overcast clouds|299.65|      76|      4.25|2025-08-21 21:59:...|\n",
            "|Los Angeles|     US|34.0522|-118.2437|  Clear|      clear sky| 292.0|      82|      1.21|2025-08-21 21:59:...|\n",
            "|    Chicago|     US|  41.85|   -87.65| Clouds|overcast clouds| 295.9|      94|      2.43|2025-08-21 21:59:...|\n",
            "|    Houston|     US|29.7633| -95.3633|  Clear|      clear sky|301.46|      83|      0.57|2025-08-21 21:59:...|\n",
            "|    Phoenix|     US|33.4484| -112.074|  Clear|      clear sky|300.35|      33|       1.6|2025-08-21 21:59:...|\n",
            "+-----------+-------+-------+---------+-------+---------------+------+--------+----------+--------------------+\n",
            "only showing top 5 rows\n",
            "\n"
          ]
        }
      ]
    },
    {
      "cell_type": "markdown",
      "source": [
        "### Cross Join and Haversine Method"
      ],
      "metadata": {
        "id": "DYaQvwZpgA9Z"
      }
    },
    {
      "cell_type": "code",
      "source": [
        "df_Weather = df_weather.withColumnRenamed('lat','weather_lat')\\\n",
        "                      .withColumnRenamed('lon','weather_lon')\n",
        "\n",
        "df_crossed = df_plane.crossJoin(broadcast(df_Weather)) \\\n",
        "    .filter(\n",
        "        (col(\"weather_lat\").between(col(\"latitude\") - 2, col(\"latitude\") + 2)) &\n",
        "        (col(\"weather_lon\").between(col(\"longitude\") - 2, col(\"longitude\") + 2))\n",
        "    )"
      ],
      "metadata": {
        "id": "ftwQ7AuycSh6"
      },
      "execution_count": null,
      "outputs": []
    },
    {
      "cell_type": "code",
      "source": [
        "print(df_crossed.count())"
      ],
      "metadata": {
        "colab": {
          "base_uri": "https://localhost:8080/"
        },
        "id": "Wtpy1GMhgnxE",
        "outputId": "60ada30e-5953-406a-d77c-7f173d47a525"
      },
      "execution_count": null,
      "outputs": [
        {
          "output_type": "stream",
          "name": "stdout",
          "text": [
            "80498\n"
          ]
        }
      ]
    },
    {
      "cell_type": "code",
      "source": [
        "# Earth's radius in kilometers\n",
        "R = lit(6371)\n",
        "\n",
        "# Convert lat/lon to radians\n",
        "lat1 = radians(col(\"latitude\"))\n",
        "lon1 = radians(col(\"longitude\"))\n",
        "lat2 = radians(col(\"weather_lat\"))\n",
        "lon2 = radians(col(\"weather_lon\"))\n",
        "\n",
        "dlon = lon2 - lon1\n",
        "dlat = lat2 - lat1\n",
        "a = sin(dlat / 2)**2 + cos(lat1) * cos(lat2) * sin(dlon / 2)**2\n",
        "c = 2 * asin(sqrt(a))\n",
        "haversine_expr = R * c\n",
        "\n",
        "df_with_distance = df_crossed.withColumn(\"distance_km\", haversine_expr)\n",
        "\n",
        "window_Spec  = Window.partitionBy(\"icao24\").orderBy(\"distance_km\")\n",
        "df_rank = df_with_distance.withColumn(\"rank\", row_number().over(window_Spec))\n",
        "df_nearest = df_rank.filter(col(\"rank\") == 1)\n",
        "\n",
        "df_nearest.show()"
      ],
      "metadata": {
        "id": "CQZD6y4hgqq7",
        "colab": {
          "base_uri": "https://localhost:8080/"
        },
        "outputId": "3c9b03bd-7cf7-4855-b9c9-12c3477952f4"
      },
      "execution_count": null,
      "outputs": [
        {
          "output_type": "stream",
          "name": "stdout",
          "text": [
            "+------+--------+--------------+-------------+------------+---------+--------+-------------+---------+--------+----------+-------------+-------+------------+------+-----+---------------+--------------------+------------+-------+-----------+-----------+-------+-----------+------+--------+----------+--------------------+------------------+----+\n",
            "|icao24|callsign|origin_country|time_position|last_contact|longitude|latitude|baro_altitude|on_ground|velocity|true_track|vertical_rate|sensors|geo_altitude|squawk|  spi|position_source|       timestamp_sil|        city|country|weather_lat|weather_lon|weather|description|  temp|humidity|wind_speed|       timestamp_sil|       distance_km|rank|\n",
            "+------+--------+--------------+-------------+------------+---------+--------+-------------+---------+--------+----------+-------------+-------+------------+------+-----+---------------+--------------------+------------+-------+-----------+-----------+-------+-----------+------+--------+----------+--------------------+------------------+----+\n",
            "|008126|        |  South Africa|   1755438232|  1755438237|  20.5833|-32.3644|      10363.2|    false|  194.48|    227.79|          0.0|   NULL|    10767.06|  NULL|false|              0|2025-08-21 21:36:...|      George|     ZA|    -33.963|    22.4617|  Clear|  clear sky|290.59|      66|      3.83|2025-08-21 21:36:...|249.32541810311685|   1|\n",
            "|008262|ZSSWU   |  South Africa|   1755438290|  1755438290|  18.4958|-33.5708|       601.98|    false|   39.56|    110.56|        -0.65|   NULL|       685.8|  NULL|false|              0|2025-08-21 21:36:...|   Cape Town|     ZA|   -33.9258|    18.4232|  Clear|  clear sky|290.28|      66|      2.25|2025-08-21 21:36:...| 40.04074504872999|   1|\n",
            "|0083af|ZSHIM   |  South Africa|   1755438170|  1755438172|  18.4286|-33.8996|       -60.96|    false|    0.51|     270.0|        -0.33|   NULL|        38.1|  NULL|false|              0|2025-08-21 21:36:...|   Cape Town|     ZA|   -33.9258|    18.4232|  Clear|  clear sky|290.28|      66|      2.25|2025-08-21 21:36:...|  2.95551378815844|   1|\n",
            "|008487|LNK307W |  South Africa|   1755438290|  1755438290|  27.9769|-26.0167|      4632.96|    false|  142.06|    121.68|         -2.6|   NULL|     4892.04|  NULL|false|              0|2025-08-21 21:36:...|Johannesburg|     ZA|   -26.2023|    28.0436|  Clear|  clear sky|292.69|      25|       3.1|2025-08-21 21:36:...|21.685664202657048|   1|\n",
            "|008692|KEM838  |  South Africa|   1755438287|  1755438287|  19.3942|-33.2801|       7353.3|    false|  182.96|     232.2|        -13.0|   NULL|      7734.3|  NULL|false|              0|2025-08-21 21:36:...|   Cape Town|     ZA|   -33.9258|    18.4232|  Clear|  clear sky|290.28|      66|      2.25|2025-08-21 21:36:...|115.07267368166245|   1|\n",
            "|008b25|ZUMFA   |  South Africa|   1755438290|  1755438290|  18.5537|-33.7413|        190.5|    false|   34.93|    260.68|        -2.28|   NULL|      259.08|  NULL|false|              0|2025-08-21 21:36:...|   Cape Town|     ZA|   -33.9258|    18.4232|  Clear|  clear sky|290.28|      66|      2.25|2025-08-21 21:36:...| 23.79451585371656|   1|\n",
            "|008b8f|LNK142B |  South Africa|   1755438164|  1755438164|  28.1154|-26.3937|      3177.54|    false|  115.63|    101.81|        -4.55|   NULL|     3611.88|  NULL|false|              0|2025-08-21 21:36:...|Johannesburg|     ZA|   -26.2023|    28.0436|  Clear|  clear sky|292.69|      25|       3.1|2025-08-21 21:36:...|22.453997965401527|   1|\n",
            "|008de5|SFR358  |  South Africa|   1755438289|  1755438289|  27.7999|-26.0916|      3185.16|    false|  179.96|    242.04|         3.25|   NULL|     3383.28|  NULL|false|              0|2025-08-21 21:36:...|Johannesburg|     ZA|   -26.2023|    28.0436|  Clear|  clear sky|292.69|      25|       3.1|2025-08-21 21:36:...| 27.26223936023076|   1|\n",
            "|008df3|SFR307  |  South Africa|   1755438280|  1755438285|  19.7473|-32.9982|      9700.26|    false|   174.9|    228.34|        -10.4|   NULL|    10073.64|  NULL|false|              0|2025-08-21 21:36:...|   Cape Town|     ZA|   -33.9258|    18.4232|  Clear|  clear sky|290.28|      66|      2.25|2025-08-21 21:36:...| 160.3898273884199|   1|\n",
            "|008df9|SFR690  |  South Africa|   1755438289|  1755438290|  19.6632|-33.3936|      8313.42|    false|  238.44|     49.99|          6.5|   NULL|      8610.6|  NULL|false|              0|2025-08-21 21:36:...|   Cape Town|     ZA|   -33.9258|    18.4232|  Clear|  clear sky|290.28|      66|      2.25|2025-08-21 21:36:...|129.12267679278216|   1|\n",
            "|00904d|MME120  |  South Africa|   1755438290|  1755438290|  29.1136|-25.2105|       7505.7|    false|  124.65|     14.09|          2.6|   NULL|     7856.22|  NULL|false|              0|2025-08-21 21:36:...|Johannesburg|     ZA|   -26.2023|    28.0436|  Clear|  clear sky|292.69|      25|       3.1|2025-08-21 21:36:...|  153.799543884767|   1|\n",
            "|009130|LNK637N |  South Africa|   1755438290|  1755438290|  18.5144|-33.8524|      1760.22|    false|  139.67|    244.47|        17.23|   NULL|     1874.52|  NULL|false|              0|2025-08-21 21:36:...|   Cape Town|     ZA|   -33.9258|    18.4232|  Clear|  clear sky|290.28|      66|      2.25|2025-08-21 21:36:...|11.725072802946412|   1|\n",
            "|009131|LNK315Y |  South Africa|   1755438286|  1755438289|  19.0807|-33.5165|      5135.88|    false|  192.85|    221.21|       -14.31|   NULL|      5334.0|  NULL|false|              0|2025-08-21 21:36:...|   Cape Town|     ZA|   -33.9258|    18.4232|  Clear|  clear sky|290.28|      66|      2.25|2025-08-21 21:36:...| 75.95484642603236|   1|\n",
            "|009132|LNK327C |  South Africa|   1755438285|  1755438285|  18.6078|-33.9842|       -15.24|    false|   64.39|    345.19|        -0.98|   NULL|       83.82|  NULL|false|              0|2025-08-21 21:36:...|   Cape Town|     ZA|   -33.9258|    18.4232|  Clear|  clear sky|290.28|      66|      2.25|2025-08-21 21:36:...|18.222580959706143|   1|\n",
            "|0092b5|ZSHBO   |  South Africa|   1755438289|  1755438289|  18.3675|-33.9216|       518.16|    false|   58.26|     29.05|        -0.33|   NULL|       609.6|  NULL|false|              0|2025-08-21 21:36:...|   Cape Town|     ZA|   -33.9258|    18.4232|  Clear|  clear sky|290.28|      66|      2.25|2025-08-21 21:36:...|5.1604436932266005|   1|\n",
            "|0092de|ZUFTF   |  South Africa|   1755438205|  1755438210|  18.5474|-33.7491|        91.44|    false|    32.0|    175.39|        -3.58|   NULL|       190.5|  NULL|false|              0|2025-08-21 21:36:...|   Cape Town|     ZA|   -33.9258|    18.4232|  Clear|  clear sky|290.28|      66|      2.25|2025-08-21 21:36:...|22.751662555230205|   1|\n",
            "|0092e6|LNK301S |  South Africa|   1755437996|  1755438003|  28.0892|-26.4437|      3413.76|    false|   116.8|    103.24|        -6.83|   NULL|     3627.12|  NULL|false|              0|2025-08-21 21:36:...|Johannesburg|     ZA|   -26.2023|    28.0436|  Clear|  clear sky|292.69|      25|       3.1|2025-08-21 21:36:...| 27.22454267435256|   1|\n",
            "|009498|ZSHUD   |  South Africa|   1755438286|  1755438286|  27.7815|-25.7273|       1714.5|    false|   70.23|    133.52|          1.3|   NULL|     1844.04|  NULL|false|              0|2025-08-21 21:36:...|Johannesburg|     ZA|   -26.2023|    28.0436|  Clear|  clear sky|292.69|      25|       3.1|2025-08-21 21:36:...|  58.9597607816728|   1|\n",
            "|0094d7|LNK931V |  South Africa|   1755438290|  1755438290|  27.6762|-26.1779|      3764.28|    false|  189.21|    252.11|          2.6|   NULL|     4008.12|  NULL|false|              0|2025-08-21 21:36:...|Johannesburg|     ZA|   -26.2023|    28.0436|  Clear|  clear sky|292.69|      25|       3.1|2025-08-21 21:36:...| 36.75898960275918|   1|\n",
            "|009d4a|        |  South Africa|   1755438018|  1755438018|   28.212|-26.2184|       2019.3|    false|   81.26|      15.8|        -4.23|   NULL|        NULL|  NULL|false|              0|2025-08-21 21:36:...|Johannesburg|     ZA|   -26.2023|    28.0436|  Clear|  clear sky|292.69|      25|       3.1|2025-08-21 21:36:...|16.894965706660383|   1|\n",
            "+------+--------+--------------+-------------+------------+---------+--------+-------------+---------+--------+----------+-------------+-------+------------+------+-----+---------------+--------------------+------------+-------+-----------+-----------+-------+-----------+------+--------+----------+--------------------+------------------+----+\n",
            "only showing top 20 rows\n",
            "\n"
          ]
        }
      ]
    }
  ]
}