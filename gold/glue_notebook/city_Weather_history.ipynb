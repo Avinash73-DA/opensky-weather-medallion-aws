{
 "cells": [
  {
   "cell_type": "code",
   "execution_count": null,
   "id": "c408315d",
   "metadata": {
    "vscode": {
     "languageId": "plaintext"
    }
   },
   "outputs": [],
   "source": [
    "from pyspark.sql.functions import col,max, round, avg"
   ]
  },
  {
   "cell_type": "code",
   "execution_count": null,
   "id": "f7e82c39",
   "metadata": {
    "vscode": {
     "languageId": "plaintext"
    }
   },
   "outputs": [],
   "source": [
    "df_weather = spark.read.table('silver_db.weather_silverweather_data')\\\n",
    "    .groupBy(\"country\", \"city\", \"lat\", \"lon\") \\\n",
    "    .agg(\n",
    "        round(avg(\"temp\"), 2).alias(\"average_temp\"),\n",
    "        max(\"wind_speed\").alias(\"max_wind\"),\n",
    "        round(avg(\"humidity\"), 2).alias(\"average_humidity\")\n",
    "    )"
   ]
  },
  {
   "cell_type": "code",
   "execution_count": null,
   "id": "fbb310a9",
   "metadata": {
    "vscode": {
     "languageId": "plaintext"
    }
   },
   "outputs": [],
   "source": [
    "print(f\"No of Rows Present: {df_weather.count()}\")"
   ]
  },
  {
   "cell_type": "code",
   "execution_count": null,
   "id": "51e5973c",
   "metadata": {
    "vscode": {
     "languageId": "plaintext"
    }
   },
   "outputs": [],
   "source": [
    "try:\n",
    "    df_weather.write \\\n",
    "        .format('parquet') \\\n",
    "        .mode('overwrite') \\\n",
    "        .option('path', 's3://apiproject/gold/CityWeatherHistory/') \\\n",
    "        .partitionBy('country') \\\n",
    "        .saveAsTable('gold_db.CityWeatherHistory')\n",
    "    print(\"Table Created in gold_db.CityWeatherHistory\")\n",
    "except Exception as e:\n",
    "    print(f\"Failed to Create Table Error: {e}\")"
   ]
  }
 ],
 "metadata": {
  "language_info": {
   "name": "python"
  }
 },
 "nbformat": 4,
 "nbformat_minor": 5
}
