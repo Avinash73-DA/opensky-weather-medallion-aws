{
 "cells": [
  {
   "cell_type": "code",
   "execution_count": null,
   "id": "da45a010",
   "metadata": {
    "vscode": {
     "languageId": "plaintext"
    }
   },
   "outputs": [],
   "source": [
    "from pyspark.sql.functions import col,date_format,from_utc_timestamp,current_timestamp"
   ]
  },
  {
   "cell_type": "code",
   "execution_count": null,
   "id": "b0fc251d",
   "metadata": {
    "vscode": {
     "languageId": "plaintext"
    }
   },
   "outputs": [],
   "source": [
    "df = spark.read.table(\"silver_db.enriched_silverplane_weather_enriched\")\\\n",
    ".select(\n",
    "    col(\"icao24\"),\n",
    "    col(\"origin_Country\"),\n",
    "    col(\"time_position\"),\n",
    "    col(\"latitude\"),\n",
    "    col(\"longitude\"),\n",
    "    col(\"geo_altitude\"),\n",
    "    col(\"velocity\"),\n",
    "    col(\"city\").alias(\"weather_nearest_city\"),\n",
    "    col(\"weather\"),\n",
    "    col(\"description\"),\n",
    "    col(\"temp\"),\n",
    "    col(\"humidity\"),\n",
    "    col(\"wind_speed\"),\n",
    "    col(\"distance_km\"),\n",
    "    date_format(\n",
    "        from_utc_timestamp(current_timestamp(), 'Asia/Kolkata'),\n",
    "        'yyyy-MM-dd HH:mm:ss'\n",
    "    ).alias(\"timestamp_ist\")\n",
    ")"
   ]
  },
  {
   "cell_type": "code",
   "execution_count": null,
   "id": "fe28e082",
   "metadata": {
    "vscode": {
     "languageId": "plaintext"
    }
   },
   "outputs": [],
   "source": [
    "print(df.count())"
   ]
  },
  {
   "cell_type": "code",
   "execution_count": null,
   "id": "fd5c614d",
   "metadata": {
    "vscode": {
     "languageId": "plaintext"
    }
   },
   "outputs": [],
   "source": [
    "try:\n",
    "    df.write\\\n",
    "        .format(\"parquet\")\\\n",
    "        .mode(\"overwrite\")\\\n",
    "        .option(\"path\",\"s3://apiproject/gold/flight_weather_snapshot\")\\\n",
    "        .saveAsTable(\"gold_db.flight_weather\")\n",
    "    print(\"Data Loaded to gold_db.flight_weather\")\n",
    "except Exception as e:\n",
    "    print(f\"Failed Loading the Data: {e}\")"
   ]
  }
 ],
 "metadata": {
  "language_info": {
   "name": "python"
  }
 },
 "nbformat": 4,
 "nbformat_minor": 5
}
