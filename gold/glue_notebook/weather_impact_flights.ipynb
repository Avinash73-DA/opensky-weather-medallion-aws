{
 "cells": [
  {
   "cell_type": "code",
   "execution_count": null,
   "id": "cdd9970b",
   "metadata": {
    "vscode": {
     "languageId": "plaintext"
    }
   },
   "outputs": [],
   "source": [
    "from pyspark.sql.functions import col,from_unixtime,count,when,current_timestamp,from_utc_timestamp"
   ]
  },
  {
   "cell_type": "code",
   "execution_count": null,
   "id": "cabb47a2",
   "metadata": {
    "vscode": {
     "languageId": "plaintext"
    }
   },
   "outputs": [],
   "source": [
    "df = spark.read.table(\"silver_db.enriched_silverplane_weather_enriched\")"
   ]
  },
  {
   "cell_type": "code",
   "execution_count": null,
   "id": "e6cde0ef",
   "metadata": {
    "vscode": {
     "languageId": "plaintext"
    }
   },
   "outputs": [],
   "source": [
    "df.show(5)"
   ]
  },
  {
   "cell_type": "code",
   "execution_count": null,
   "id": "b4c89c9a",
   "metadata": {
    "vscode": {
     "languageId": "plaintext"
    }
   },
   "outputs": [],
   "source": [
    "df_validated = df.groupBy(from_unixtime(col('time_position')).cast('date').alias('date'),col('country'),col('city'))\\\n",
    "    .agg(count(col('*')).alias('count'),\n",
    "         count(\n",
    "             when(col('description').isin('very heavy rain','heavy intensity rain','moderate rain'),1)\n",
    "               ).alias('flights_in_storm')\n",
    "        )\\\n",
    "    .withColumn('timestamp',from_utc_timestamp(current_timestamp(), 'Asia/Kolkata'))"
   ]
  },
  {
   "cell_type": "code",
   "execution_count": null,
   "id": "41810dff",
   "metadata": {
    "vscode": {
     "languageId": "plaintext"
    }
   },
   "outputs": [],
   "source": [
    "print(df_validated.count())"
   ]
  },
  {
   "cell_type": "code",
   "execution_count": null,
   "id": "e4b5222f",
   "metadata": {
    "vscode": {
     "languageId": "plaintext"
    }
   },
   "outputs": [],
   "source": [
    "try:\n",
    "    df_validated.write\\\n",
    "        .format('parquet')\\\n",
    "        .mode('overwrite')\\\n",
    "        .option('path','s3://apiproject/gold/weather_Impact_flights/')\\\n",
    "        .saveAsTable('gold_db.weather_Impact_flights')\n",
    "    print(\"Table Created gold_db.weather_Impact_flights \")\n",
    "except Exception as e:\n",
    "    print(f\"Table Creation Failed Error: {e}\")"
   ]
  }
 ],
 "metadata": {
  "language_info": {
   "name": "python"
  }
 },
 "nbformat": 4,
 "nbformat_minor": 5
}
